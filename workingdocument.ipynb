{
 "cells": [
  {
   "cell_type": "code",
   "execution_count": null,
   "id": "abd0c3a1-ffa9-4d9d-bc86-f3aa8c3a007d",
   "metadata": {},
   "outputs": [
    {
     "name": "stderr",
     "output_type": "stream",
     "text": [
      "── \u001b[1mAttaching packages\u001b[22m ─────────────────────────────────────── tidyverse 1.3.1 ──\n",
      "\n",
      "\u001b[32m✔\u001b[39m \u001b[34mtibble \u001b[39m 3.1.7     \u001b[32m✔\u001b[39m \u001b[34mdplyr  \u001b[39m 1.0.9\n",
      "\u001b[32m✔\u001b[39m \u001b[34mtidyr  \u001b[39m 1.2.0     \u001b[32m✔\u001b[39m \u001b[34mstringr\u001b[39m 1.4.0\n",
      "\u001b[32m✔\u001b[39m \u001b[34mreadr  \u001b[39m 2.1.2     \u001b[32m✔\u001b[39m \u001b[34mforcats\u001b[39m 0.5.1\n",
      "\u001b[32m✔\u001b[39m \u001b[34mpurrr  \u001b[39m 0.3.4     \n",
      "\n",
      "── \u001b[1mConflicts\u001b[22m ────────────────────────────────────────── tidyverse_conflicts() ──\n",
      "\u001b[31m✖\u001b[39m \u001b[34mdplyr\u001b[39m::\u001b[32mfilter()\u001b[39m masks \u001b[34mstats\u001b[39m::filter()\n",
      "\u001b[31m✖\u001b[39m \u001b[34mdplyr\u001b[39m::\u001b[32mlag()\u001b[39m    masks \u001b[34mstats\u001b[39m::lag()\n",
      "\u001b[31m✖\u001b[39m \u001b[34mpurrr\u001b[39m::\u001b[32mlift()\u001b[39m   masks \u001b[34mcaret\u001b[39m::lift()\n",
      "\n",
      "── \u001b[1mAttaching packages\u001b[22m ────────────────────────────────────── tidymodels 1.0.0 ──\n",
      "\n",
      "\u001b[32m✔\u001b[39m \u001b[34mbroom       \u001b[39m 1.0.0     \u001b[32m✔\u001b[39m \u001b[34mrsample     \u001b[39m 1.0.0\n",
      "\u001b[32m✔\u001b[39m \u001b[34mdials       \u001b[39m 1.0.0     \u001b[32m✔\u001b[39m \u001b[34mtune        \u001b[39m 1.0.0\n",
      "\u001b[32m✔\u001b[39m \u001b[34minfer       \u001b[39m 1.0.2     \u001b[32m✔\u001b[39m \u001b[34mworkflows   \u001b[39m 1.0.0\n",
      "\u001b[32m✔\u001b[39m \u001b[34mmodeldata   \u001b[39m 1.0.0     \u001b[32m✔\u001b[39m \u001b[34mworkflowsets\u001b[39m 1.0.0\n",
      "\u001b[32m✔\u001b[39m \u001b[34mparsnip     \u001b[39m 1.0.0     \u001b[32m✔\u001b[39m \u001b[34myardstick   \u001b[39m 1.0.0\n",
      "\u001b[32m✔\u001b[39m \u001b[34mrecipes     \u001b[39m 1.0.1     \n",
      "\n"
     ]
    }
   ],
   "source": [
    "library(tidyverse)\n",
    "library(repr)\n",
    "library(tidymodels)\n",
    "library(GGally)\n",
    "library(broom)\n",
    "options(repr.matrix.max.rows=6)"
   ]
  },
  {
   "cell_type": "code",
   "execution_count": null,
   "id": "7fa91900-6c3f-4c20-b4ad-c4eb59c23210",
   "metadata": {},
   "outputs": [],
   "source": [
    "telecom<-read_csv(\"WA_Fn-UseC_-Telco-Customer-Churn.csv\")|>\n",
    "         select(tenure,MonthlyCharges,TotalCharges,Churn)|>\n",
    "         filter(tenure!=\"NA\")|>\n",
    "         filter(MonthlyCharges!=\"NA\")|>\n",
    "         filter(TotalCharges!=\"NA\")|>\n",
    "         filter(Churn!=\"NA\")|>\n",
    "         mutate(Churn=as_factor(Churn))\n",
    "\n",
    "telecom"
   ]
  },
  {
   "cell_type": "code",
   "execution_count": null,
   "id": "75e60d3e",
   "metadata": {},
   "outputs": [],
   "source": []
  },
  {
   "cell_type": "code",
   "execution_count": null,
   "id": "10c12dbb",
   "metadata": {},
   "outputs": [],
   "source": [
    "telecom_split<-initial_split(telecom,prop=0.75,class=Churn)\n",
    "telecom_train<-training(telecom_split)\n",
    "telecom_test<-testing(telecom_split)"
   ]
  },
  {
   "cell_type": "code",
   "execution_count": null,
   "id": "c53b5de5",
   "metadata": {},
   "outputs": [],
   "source": [
    "library(caret)\n",
    "\n",
    "upsample_telecom_train<-upSample(telecom_train,telecom_train$Churn)|>\n",
    "                        select(-Churn)|>\n",
    "                        rename(Churn=Class)\n",
    "\n",
    "new_upsample_telecom_train<-tibble(upsample_telecom_train)\n",
    "\n",
    "upsample_telecom_train\n",
    "\n",
    "new_upsample_telecom_train"
   ]
  },
  {
   "cell_type": "code",
   "execution_count": null,
   "id": "42d9f290",
   "metadata": {},
   "outputs": [],
   "source": [
    "set.seed(1234)\n",
    "\n",
    "knn_spec<-nearest_neighbor(weight_func=\"rectangular\",neighbor=tune())|>\n",
    "          set_engine(\"kknn\")|>\n",
    "          set_mode(\"classification\")\n",
    "\n",
    "telecom_recipe<-recipe(Churn~.,data=new_upsample_telecom_train)|>\n",
    "                step_scale(all_predictors())|>\n",
    "                step_center(all_predictors()) \n",
    "\n",
    "telecom_vfold<-vfold_cv(new_upsample_telecom_train,v=5,strata=Churn)\n",
    "\n",
    "\n",
    "\n",
    "telecom_workflow<-workflow()|>\n",
    "                  add_recipe(telecom_recipe)|>\n",
    "                  add_model(knn_spec)|>\n",
    "                  tune_grid(resamples=telecom_vfold,grid=10)|>\n",
    "                  collect_metrics()\n",
    "\n",
    "\n",
    "telecom_workflow\n",
    "\n",
    "filtered_telecom_metrics<-telecom_workflow|>\n",
    "                         filter(.metric==\"accuracy\")\n",
    "\n",
    "filtered_telecom_metrics\n",
    "\n",
    "\n",
    "print(filtered_telecom_metrics)"
   ]
  },
  {
   "cell_type": "code",
   "execution_count": 1,
   "id": "f274b56e",
   "metadata": {},
   "outputs": [
    {
     "ename": "ERROR",
     "evalue": "Error in ggplot(filtered_telecom_metrics, aes(x = neighbors, y = mean)): could not find function \"ggplot\"\n",
     "output_type": "error",
     "traceback": [
      "Error in ggplot(filtered_telecom_metrics, aes(x = neighbors, y = mean)): could not find function \"ggplot\"\nTraceback:\n"
     ]
    }
   ],
   "source": [
    "telecom_k_graph<-filtered_telecom_metrics|>\n",
    "                 ggplot(aes(x=neighbors,y=mean))+\n",
    "                 geom_point()+\n",
    "                 geom_line()+\n",
    "                 labs(x=\"Neighbors\",y=\"Accuracy estimate\")+\n",
    "                 ggtitle(\"Accuracy estimates for predictors TotalCharges and tenure\")+\n",
    "                 theme(text=element_text(size=20))\n",
    "\n",
    "telecom_k_graph"
   ]
  },
  {
   "cell_type": "code",
   "execution_count": null,
   "id": "8124da12",
   "metadata": {},
   "outputs": [],
   "source": [
    "#Therefore, the ideal predictor is one where the k-value=2 \n",
    "\n",
    "knn_spec_1<-nearest_neighbor(weight_func=\"rectangular\",neighbor=2|>\n",
    "          set_engine(\"kknn\")|>\n",
    "          set_mode(\"classification\")\n",
    "\n",
    "telecom_workflow_1<-workflow()|>\n",
    "                    add_recipe(telecom_recipe)|>\n",
    "                    add_model(knn_spec_1)|>\n",
    "                    fit(new_upsample_telecom_train)\n",
    "                             \n",
    "telecom_test_predictions<-predict(telecom_workflow_1,telecom_test)|>\n",
    "                          bind_cols(telecom_test)\n",
    "                             \n",
    "telecom_test_metrics<-telecom_test_predictions|>\n",
    "                       metrics(truth=Churn,estimate=.pred_class)|>\n",
    "                       filter(.metric==\"accuracy\")\n",
    "                             \n",
    "telecom_test_conf_mat<-telecom_test_predictions|>\n",
    "                       conf_mat(truth=Churn,estimate=.pred_class)\n",
    "                             \n",
    "telecom_test_metrics\n",
    "telecom_test_conf_mat\n",
    "                  "
   ]
  },
  {
   "cell_type": "code",
   "execution_count": null,
   "id": "f02e6661",
   "metadata": {},
   "outputs": [],
   "source": []
  },
  {
   "cell_type": "code",
   "execution_count": null,
   "id": "fd3d1fcc",
   "metadata": {},
   "outputs": [],
   "source": []
  },
  {
   "cell_type": "code",
   "execution_count": null,
   "id": "2c4e0aa3",
   "metadata": {},
   "outputs": [],
   "source": []
  }
 ],
 "metadata": {
  "kernelspec": {
   "display_name": "R",
   "language": "R",
   "name": "ir"
  },
  "language_info": {
   "codemirror_mode": "r",
   "file_extension": ".r",
   "mimetype": "text/x-r-source",
   "name": "R",
   "pygments_lexer": "r",
   "version": "4.1.3"
  }
 },
 "nbformat": 4,
 "nbformat_minor": 5
}
